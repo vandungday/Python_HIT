{
 "cells": [
  {
   "cell_type": "code",
   "execution_count": 1,
   "id": "d91109fe",
   "metadata": {},
   "outputs": [],
   "source": [
    "import numpy as np\n",
    "import pandas as pd\n",
    "import matplotlib.pyplot as plt"
   ]
  },
  {
   "cell_type": "code",
   "execution_count": 2,
   "id": "9201dba0",
   "metadata": {},
   "outputs": [],
   "source": [
    "# đọc file csv\n",
    "df = pd.read_csv(\"Mall_Customers_2.csv\")"
   ]
  },
  {
   "cell_type": "code",
   "execution_count": 3,
   "id": "af3cdc02",
   "metadata": {},
   "outputs": [
    {
     "data": {
      "text/html": [
       "<div>\n",
       "<style scoped>\n",
       "    .dataframe tbody tr th:only-of-type {\n",
       "        vertical-align: middle;\n",
       "    }\n",
       "\n",
       "    .dataframe tbody tr th {\n",
       "        vertical-align: top;\n",
       "    }\n",
       "\n",
       "    .dataframe thead th {\n",
       "        text-align: right;\n",
       "    }\n",
       "</style>\n",
       "<table border=\"1\" class=\"dataframe\">\n",
       "  <thead>\n",
       "    <tr style=\"text-align: right;\">\n",
       "      <th></th>\n",
       "      <th>CustomerID</th>\n",
       "      <th>Genre</th>\n",
       "      <th>Age</th>\n",
       "      <th>Annual Income (k$)</th>\n",
       "      <th>Spending Score (1-100)</th>\n",
       "    </tr>\n",
       "  </thead>\n",
       "  <tbody>\n",
       "    <tr>\n",
       "      <th>0</th>\n",
       "      <td>1</td>\n",
       "      <td>Male</td>\n",
       "      <td>19.0</td>\n",
       "      <td>15</td>\n",
       "      <td>39.0</td>\n",
       "    </tr>\n",
       "    <tr>\n",
       "      <th>1</th>\n",
       "      <td>2</td>\n",
       "      <td>Male</td>\n",
       "      <td>21.0</td>\n",
       "      <td>15</td>\n",
       "      <td>81.0</td>\n",
       "    </tr>\n",
       "    <tr>\n",
       "      <th>2</th>\n",
       "      <td>3</td>\n",
       "      <td>Female</td>\n",
       "      <td>20.0</td>\n",
       "      <td>16</td>\n",
       "      <td>6.0</td>\n",
       "    </tr>\n",
       "    <tr>\n",
       "      <th>3</th>\n",
       "      <td>4</td>\n",
       "      <td>Female</td>\n",
       "      <td>23.0</td>\n",
       "      <td>16</td>\n",
       "      <td>77.0</td>\n",
       "    </tr>\n",
       "    <tr>\n",
       "      <th>4</th>\n",
       "      <td>5</td>\n",
       "      <td>Female</td>\n",
       "      <td>31.0</td>\n",
       "      <td>17</td>\n",
       "      <td>40.0</td>\n",
       "    </tr>\n",
       "    <tr>\n",
       "      <th>...</th>\n",
       "      <td>...</td>\n",
       "      <td>...</td>\n",
       "      <td>...</td>\n",
       "      <td>...</td>\n",
       "      <td>...</td>\n",
       "    </tr>\n",
       "    <tr>\n",
       "      <th>195</th>\n",
       "      <td>196</td>\n",
       "      <td>Female</td>\n",
       "      <td>35.0</td>\n",
       "      <td>120</td>\n",
       "      <td>79.0</td>\n",
       "    </tr>\n",
       "    <tr>\n",
       "      <th>196</th>\n",
       "      <td>197</td>\n",
       "      <td>Female</td>\n",
       "      <td>45.0</td>\n",
       "      <td>126</td>\n",
       "      <td>28.0</td>\n",
       "    </tr>\n",
       "    <tr>\n",
       "      <th>197</th>\n",
       "      <td>198</td>\n",
       "      <td>Male</td>\n",
       "      <td>32.0</td>\n",
       "      <td>126</td>\n",
       "      <td>74.0</td>\n",
       "    </tr>\n",
       "    <tr>\n",
       "      <th>198</th>\n",
       "      <td>199</td>\n",
       "      <td>Male</td>\n",
       "      <td>32.0</td>\n",
       "      <td>137</td>\n",
       "      <td>18.0</td>\n",
       "    </tr>\n",
       "    <tr>\n",
       "      <th>199</th>\n",
       "      <td>200</td>\n",
       "      <td>Male</td>\n",
       "      <td>30.0</td>\n",
       "      <td>137</td>\n",
       "      <td>83.0</td>\n",
       "    </tr>\n",
       "  </tbody>\n",
       "</table>\n",
       "<p>200 rows × 5 columns</p>\n",
       "</div>"
      ],
      "text/plain": [
       "     CustomerID   Genre   Age  Annual Income (k$)  Spending Score (1-100)\n",
       "0             1    Male  19.0                  15                    39.0\n",
       "1             2    Male  21.0                  15                    81.0\n",
       "2             3  Female  20.0                  16                     6.0\n",
       "3             4  Female  23.0                  16                    77.0\n",
       "4             5  Female  31.0                  17                    40.0\n",
       "..          ...     ...   ...                 ...                     ...\n",
       "195         196  Female  35.0                 120                    79.0\n",
       "196         197  Female  45.0                 126                    28.0\n",
       "197         198    Male  32.0                 126                    74.0\n",
       "198         199    Male  32.0                 137                    18.0\n",
       "199         200    Male  30.0                 137                    83.0\n",
       "\n",
       "[200 rows x 5 columns]"
      ]
     },
     "execution_count": 3,
     "metadata": {},
     "output_type": "execute_result"
    }
   ],
   "source": [
    "df.head(200)"
   ]
  },
  {
   "cell_type": "code",
   "execution_count": 4,
   "id": "aa7a565e",
   "metadata": {},
   "outputs": [
    {
     "data": {
      "text/plain": [
       "CustomerID                0\n",
       "Genre                     0\n",
       "Age                       5\n",
       "Annual Income (k$)        0\n",
       "Spending Score (1-100)    3\n",
       "dtype: int64"
      ]
     },
     "execution_count": 4,
     "metadata": {},
     "output_type": "execute_result"
    }
   ],
   "source": [
    "# Kiểm tra có missing data khum, thì thấy ở Age có 5 missing datem Spending Score có 3\n",
    "df.isnull().sum()"
   ]
  },
  {
   "cell_type": "code",
   "execution_count": 7,
   "id": "c371cdd0",
   "metadata": {},
   "outputs": [
    {
     "data": {
      "text/plain": [
       "CustomerID                0\n",
       "Genre                     0\n",
       "Age                       0\n",
       "Annual Income (k$)        0\n",
       "Spending Score (1-100)    0\n",
       "dtype: int64"
      ]
     },
     "execution_count": 7,
     "metadata": {},
     "output_type": "execute_result"
    }
   ],
   "source": [
    "# Thay những missing data bằng giá trị trung bình\n",
    "df['Age'].fillna(df['Age'].mean(), inplace = True)\n",
    "df['Spending Score (1-100)'].fillna(df['Spending Score (1-100)'].mean(), inplace = True)\n",
    "df.isnull().sum()"
   ]
  },
  {
   "cell_type": "code",
   "execution_count": 8,
   "id": "d5a621b6",
   "metadata": {},
   "outputs": [],
   "source": [
    "# gán age là một list của cột age, score là một list của Spendng Score\n",
    "age, score = df[\"Age\"], df[\"Spending Score (1-100)\"]"
   ]
  },
  {
   "cell_type": "code",
   "execution_count": 9,
   "id": "5bbc6e5d",
   "metadata": {},
   "outputs": [],
   "source": [
    "# Xét màu\n",
    "color = [\"blue\" if i == \"Male\" else \"pink\" for i in df[\"Genre\"]]"
   ]
  },
  {
   "cell_type": "code",
   "execution_count": 10,
   "id": "6acb8b62",
   "metadata": {},
   "outputs": [
    {
     "data": {
      "image/png": "[encoded data removed]",
      "text/plain": [
       "<Figure size 432x288 with 1 Axes>"
      ]
     },
     "metadata": {
      "needs_background": "light"
     },
     "output_type": "display_data"
    }
   ],
   "source": [
    "for i in range(len(color)):\n",
    "    plt.scatter(age[i], score[i], color = color[i],)\n",
    "# plt.xlabel(\"Age\")\n",
    "# plt.ylabel(\"Score\");"
   ]
  },
  {
   "cell_type": "code",
   "execution_count": 11,
   "id": "ab0d0904",
   "metadata": {},
   "outputs": [
    {
     "data": {
      "image/png": "[encoded data removed]",
      "text/plain": [
       "<Figure size 432x288 with 1 Axes>"
      ]
     },
     "metadata": {
      "needs_background": "light"
     },
     "output_type": "display_data"
    }
   ],
   "source": [
    "salary = df['Annual Income (k$)'];\n",
    "# Vẽ đồ thị với trục x là \"Thu nhập hàng năm\", y là \"Tuổi\", màu là màu xanh\n",
    "plt.plot( salary, age, c='green',);\n",
    "# Đặt tiêu đề cho cột x,y\n",
    "plt.ylabel(\"Age\");\n",
    "plt.xlabel(\"Salary\");\n",
    "\n",
    "# Phần mũi tên\n",
    "plt.annotate('High Income ',xy=(138,31),xytext=(144,40),\n",
    "arrowprops=dict(facecolor='red'));\n",
    "\n",
    "# hàm annotate nhận vào str là nội dung chú thích\n",
    "# xy là toạ độ đầu mũi tên\n",
    "# xytext là nội dung mà str chú thích\n",
    "# arrowprops thuộc tính của mũi tên\n",
    "    "
   ]
  },
  {
   "cell_type": "code",
   "execution_count": 12,
   "id": "30fefc64",
   "metadata": {},
   "outputs": [
    {
     "data": {
      "text/plain": [
       "Age                0\n",
       "EstimatedSalary    3\n",
       "Purchased          2\n",
       "dtype: int64"
      ]
     },
     "execution_count": 12,
     "metadata": {},
     "output_type": "execute_result"
    }
   ],
   "source": [
    "sol = pd.read_csv(\"Social_Network_Ads_2.csv\");\n",
    "# Kiểm tra có missing data không\n",
    "sol.isnull().sum()"
   ]
  },
  {
   "cell_type": "code",
   "execution_count": 14,
   "id": "ff4a26bf",
   "metadata": {},
   "outputs": [],
   "source": [
    "# Thay những missing data bằng giá trị trung bình\n",
    "sol['EstimatedSalary'].fillna(sol['EstimatedSalary'].mean(), inplace = True)\n",
    "sol['Purchased'].fillna(sol['Purchased'].mean(), inplace = True)"
   ]
  },
  {
   "cell_type": "code",
   "execution_count": 15,
   "id": "6c87fd93",
   "metadata": {},
   "outputs": [
    {
     "data": {
      "text/plain": [
       "Age                0\n",
       "EstimatedSalary    0\n",
       "Purchased          0\n",
       "dtype: int64"
      ]
     },
     "execution_count": 15,
     "metadata": {},
     "output_type": "execute_result"
    }
   ],
   "source": [
    "# Kiểm tra còn missing data không\n",
    "sol.isnull().sum()"
   ]
  },
  {
   "cell_type": "code",
   "execution_count": 16,
   "id": "108c2a3c",
   "metadata": {},
   "outputs": [
    {
     "data": {
      "text/html": [
       "<div>\n",
       "<style scoped>\n",
       "    .dataframe tbody tr th:only-of-type {\n",
       "        vertical-align: middle;\n",
       "    }\n",
       "\n",
       "    .dataframe tbody tr th {\n",
       "        vertical-align: top;\n",
       "    }\n",
       "\n",
       "    .dataframe thead th {\n",
       "        text-align: right;\n",
       "    }\n",
       "</style>\n",
       "<table border=\"1\" class=\"dataframe\">\n",
       "  <thead>\n",
       "    <tr style=\"text-align: right;\">\n",
       "      <th></th>\n",
       "      <th>Age</th>\n",
       "      <th>EstimatedSalary</th>\n",
       "      <th>Purchased</th>\n",
       "    </tr>\n",
       "  </thead>\n",
       "  <tbody>\n",
       "    <tr>\n",
       "      <th>0</th>\n",
       "      <td>19</td>\n",
       "      <td>19000.0</td>\n",
       "      <td>Chua mua</td>\n",
       "    </tr>\n",
       "    <tr>\n",
       "      <th>1</th>\n",
       "      <td>35</td>\n",
       "      <td>20000.0</td>\n",
       "      <td>Chua mua</td>\n",
       "    </tr>\n",
       "    <tr>\n",
       "      <th>2</th>\n",
       "      <td>26</td>\n",
       "      <td>43000.0</td>\n",
       "      <td>Chua mua</td>\n",
       "    </tr>\n",
       "    <tr>\n",
       "      <th>3</th>\n",
       "      <td>27</td>\n",
       "      <td>57000.0</td>\n",
       "      <td>Chua mua</td>\n",
       "    </tr>\n",
       "    <tr>\n",
       "      <th>4</th>\n",
       "      <td>19</td>\n",
       "      <td>76000.0</td>\n",
       "      <td>Chua mua</td>\n",
       "    </tr>\n",
       "    <tr>\n",
       "      <th>...</th>\n",
       "      <td>...</td>\n",
       "      <td>...</td>\n",
       "      <td>...</td>\n",
       "    </tr>\n",
       "    <tr>\n",
       "      <th>395</th>\n",
       "      <td>46</td>\n",
       "      <td>41000.0</td>\n",
       "      <td>Da mua</td>\n",
       "    </tr>\n",
       "    <tr>\n",
       "      <th>396</th>\n",
       "      <td>51</td>\n",
       "      <td>23000.0</td>\n",
       "      <td>Da mua</td>\n",
       "    </tr>\n",
       "    <tr>\n",
       "      <th>397</th>\n",
       "      <td>50</td>\n",
       "      <td>20000.0</td>\n",
       "      <td>Da mua</td>\n",
       "    </tr>\n",
       "    <tr>\n",
       "      <th>398</th>\n",
       "      <td>36</td>\n",
       "      <td>33000.0</td>\n",
       "      <td>Chua mua</td>\n",
       "    </tr>\n",
       "    <tr>\n",
       "      <th>399</th>\n",
       "      <td>49</td>\n",
       "      <td>36000.0</td>\n",
       "      <td>Da mua</td>\n",
       "    </tr>\n",
       "  </tbody>\n",
       "</table>\n",
       "<p>400 rows × 3 columns</p>\n",
       "</div>"
      ],
      "text/plain": [
       "     Age  EstimatedSalary Purchased\n",
       "0     19          19000.0  Chua mua\n",
       "1     35          20000.0  Chua mua\n",
       "2     26          43000.0  Chua mua\n",
       "3     27          57000.0  Chua mua\n",
       "4     19          76000.0  Chua mua\n",
       "..   ...              ...       ...\n",
       "395   46          41000.0    Da mua\n",
       "396   51          23000.0    Da mua\n",
       "397   50          20000.0    Da mua\n",
       "398   36          33000.0  Chua mua\n",
       "399   49          36000.0    Da mua\n",
       "\n",
       "[400 rows x 3 columns]"
      ]
     },
     "execution_count": 16,
     "metadata": {},
     "output_type": "execute_result"
    }
   ],
   "source": [
    "# khi kết hợp hàm lambda với phương thức apply trong pandas ta được\n",
    "# gán dữ liệu ban đầu của cột Purchased thành \"Da mua\" néu x =1 không thì gán bằng \"Chua mua\"\n",
    "sol['Purchased'] = sol['Purchased'].apply(lambda x: 'Da mua' if x == 1 else 'Chua mua')\n",
    "sol"
   ]
  },
  {
   "cell_type": "code",
   "execution_count": 17,
   "id": "63c0c162",
   "metadata": {},
   "outputs": [
    {
     "data": {
      "text/html": [
       "<div>\n",
       "<style scoped>\n",
       "    .dataframe tbody tr th:only-of-type {\n",
       "        vertical-align: middle;\n",
       "    }\n",
       "\n",
       "    .dataframe tbody tr th {\n",
       "        vertical-align: top;\n",
       "    }\n",
       "\n",
       "    .dataframe thead th {\n",
       "        text-align: right;\n",
       "    }\n",
       "</style>\n",
       "<table border=\"1\" class=\"dataframe\">\n",
       "  <thead>\n",
       "    <tr style=\"text-align: right;\">\n",
       "      <th></th>\n",
       "      <th>Age</th>\n",
       "      <th>EstimatedSalary</th>\n",
       "      <th>Status</th>\n",
       "    </tr>\n",
       "  </thead>\n",
       "  <tbody>\n",
       "    <tr>\n",
       "      <th>0</th>\n",
       "      <td>19</td>\n",
       "      <td>19000.0</td>\n",
       "      <td>Chua mua</td>\n",
       "    </tr>\n",
       "    <tr>\n",
       "      <th>1</th>\n",
       "      <td>35</td>\n",
       "      <td>20000.0</td>\n",
       "      <td>Chua mua</td>\n",
       "    </tr>\n",
       "    <tr>\n",
       "      <th>2</th>\n",
       "      <td>26</td>\n",
       "      <td>43000.0</td>\n",
       "      <td>Chua mua</td>\n",
       "    </tr>\n",
       "    <tr>\n",
       "      <th>3</th>\n",
       "      <td>27</td>\n",
       "      <td>57000.0</td>\n",
       "      <td>Chua mua</td>\n",
       "    </tr>\n",
       "    <tr>\n",
       "      <th>4</th>\n",
       "      <td>19</td>\n",
       "      <td>76000.0</td>\n",
       "      <td>Chua mua</td>\n",
       "    </tr>\n",
       "  </tbody>\n",
       "</table>\n",
       "</div>"
      ],
      "text/plain": [
       "   Age  EstimatedSalary    Status\n",
       "0   19          19000.0  Chua mua\n",
       "1   35          20000.0  Chua mua\n",
       "2   26          43000.0  Chua mua\n",
       "3   27          57000.0  Chua mua\n",
       "4   19          76000.0  Chua mua"
      ]
     },
     "execution_count": 17,
     "metadata": {},
     "output_type": "execute_result"
    }
   ],
   "source": [
    "# Thêm cột Status giống cột Purchased\n",
    "sol['Status'] = sol['Purchased']\n",
    "# Xóa cột Purchased đi\n",
    "sol = sol.drop('Purchased', axis =1 )\n",
    "sol.head()\n"
   ]
  },
  {
   "cell_type": "code",
   "execution_count": 20,
   "id": "6fec6247",
   "metadata": {
    "scrolled": true
   },
   "outputs": [
    {
     "data": {
      "image/png": "[encoded data removed]",
      "text/plain": [
       "<Figure size 432x288 with 1 Axes>"
      ]
     },
     "metadata": {
      "needs_background": "light"
     },
     "output_type": "display_data"
    }
   ],
   "source": [
    "age = sol['Age']\n",
    "sta = sol['Status']\n",
    "es=sol['EstimatedSalary'];\n",
    "# Sét màu cho cột\n",
    "color = ['red' if s == 'Chua mua' else 'green' for s in sol['Status']]\n",
    "for i in range(len(color)) :\n",
    "    plt.bar(age[i],es[i], color = color[i])\n"
   ]
  },
  {
   "cell_type": "code",
   "execution_count": 21,
   "id": "fa932f05",
   "metadata": {},
   "outputs": [],
   "source": [
    "es=sol['EstimatedSalary'];\n",
    "age = sol['Age'];\n",
    "# Xét màu trong Satus\n",
    "color = [\"purple\" if i == \"Da mua\" else \"Red\" for i in sol[\"Status\"]]"
   ]
  },
  {
   "cell_type": "code",
   "execution_count": 22,
   "id": "dcd9d796",
   "metadata": {},
   "outputs": [
    {
     "data": {
      "image/png": "[encoded data removed]",
      "text/plain": [
       "<Figure size 432x288 with 1 Axes>"
      ]
     },
     "metadata": {
      "needs_background": "light"
     },
     "output_type": "display_data"
    }
   ],
   "source": [
    "\n",
    "for i in range(len(color)):\n",
    "    plt.scatter(age[i],es[i], c = color[i])"
   ]
  }
 ],
 "metadata": {
  "kernelspec": {
   "display_name": "Python 3 (ipykernel)",
   "language": "python",
   "name": "python3"
  },
  "language_info": {
   "codemirror_mode": {
    "name": "ipython",
    "version": 3
   },
   "file_extension": ".py",
   "mimetype": "text/x-python",
   "name": "python",
   "nbconvert_exporter": "python",
   "pygments_lexer": "ipython3",
   "version": "3.9.7"
  }
 },
 "nbformat": 4,
 "nbformat_minor": 5
}
